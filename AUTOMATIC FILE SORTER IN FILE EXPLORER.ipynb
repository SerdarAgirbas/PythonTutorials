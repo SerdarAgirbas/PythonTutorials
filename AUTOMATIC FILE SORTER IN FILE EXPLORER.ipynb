{
 "cells": [
  {
   "cell_type": "code",
   "execution_count": 47,
   "id": "d45067c9",
   "metadata": {},
   "outputs": [],
   "source": [
    "import os, shutil"
   ]
  },
  {
   "cell_type": "code",
   "execution_count": 48,
   "id": "24912496",
   "metadata": {},
   "outputs": [],
   "source": [
    "# A UnicodeEncodeError occurs when trying to encode a string that \n",
    " #contains characters that cannot be represented in the specified encoding.\n",
    "# When you write your path without \"r\"(raw), it will prompt UNICODE error! To eliminate having error, you need to add 'r'\n",
    " #outside the double quote!\n",
    "\n",
    "path = r\"C:/Users/serda/OneDrive/Masaüstü/python tutorial/\""
   ]
  },
  {
   "cell_type": "code",
   "execution_count": 49,
   "id": "2fca1bca",
   "metadata": {},
   "outputs": [],
   "source": [
    "file_name = os.listdir(path)"
   ]
  },
  {
   "cell_type": "code",
   "execution_count": 50,
   "id": "53e48f5e",
   "metadata": {},
   "outputs": [
    {
     "name": "stdout",
     "output_type": "stream",
     "text": [
      "C:/Users/serda/OneDrive/Masaüstü/python tutorial/csv files\n",
      "C:/Users/serda/OneDrive/Masaüstü/python tutorial/image files\n",
      "C:/Users/serda/OneDrive/Masaüstü/python tutorial/text files\n"
     ]
    }
   ],
   "source": [
    "folder_names = ['csv files', 'image files', 'text files']\n",
    "\n",
    "for loop in range(0,3):\n",
    "    if not os.path.exists(path + folder_names[loop]):\n",
    "        print(path + folder_names[loop])\n",
    "        os.makedirs((path + folder_names[loop]))"
   ]
  },
  {
   "cell_type": "code",
   "execution_count": 51,
   "id": "64db7b42",
   "metadata": {},
   "outputs": [],
   "source": [
    "for file in file_name:\n",
    "    if \".csv\" in file and not os.path.exists(path + \"csv files/\" + file):\n",
    "        shutil.move(path + file, path + \"csv files/\" + file)\n",
    "    elif \".jpg\" in file and not os.path.exists(path + \"image files/\" + file):\n",
    "        shutil.move(path + file, path + \"image files/\" + file)\n",
    "    elif \".txt\" in file and not os.path.exists(path + \"text files/\" + file):\n",
    "        shutil.move(path + file, path + \"text files/\" + file)"
   ]
  }
 ],
 "metadata": {
  "kernelspec": {
   "display_name": "Python 3 (ipykernel)",
   "language": "python",
   "name": "python3"
  },
  "language_info": {
   "codemirror_mode": {
    "name": "ipython",
    "version": 3
   },
   "file_extension": ".py",
   "mimetype": "text/x-python",
   "name": "python",
   "nbconvert_exporter": "python",
   "pygments_lexer": "ipython3",
   "version": "3.10.9"
  }
 },
 "nbformat": 4,
 "nbformat_minor": 5
}
