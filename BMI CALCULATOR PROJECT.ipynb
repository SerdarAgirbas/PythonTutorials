{
 "cells": [
  {
   "cell_type": "markdown",
   "id": "c58319ac",
   "metadata": {},
   "source": [
    "# BMI CALCULATOR\n",
    "\n"
   ]
  },
  {
   "cell_type": "code",
   "execution_count": 23,
   "id": "bcbd2970",
   "metadata": {},
   "outputs": [
    {
     "name": "stdout",
     "output_type": "stream",
     "text": [
      "Please enter your name here!: Serdar\n",
      "Enter your weight in pounds: 150\n",
      "Enter your height in inches: 69\n",
      "22.14870825456837\n",
      "Serdar, you are healthy weight!\n"
     ]
    }
   ],
   "source": [
    "name = input(\"Please enter your name here!: \")\n",
    "\n",
    "weight = int(input(\"Enter your weight in pounds: \"))\n",
    "\n",
    "height = int(input(\"Enter your height in inches: \"))\n",
    "\n",
    "BMI = (weight * 703) / (height * height)\n",
    "\n",
    "print(BMI)\n",
    "\n",
    "if int(BMI) > 0:\n",
    "    if(BMI<18.5):\n",
    "        print(name +\", you are underweight!\")\n",
    "    elif(BMI<=24.9):\n",
    "        print(name +\", you are healthy weight!\")\n",
    "    elif(BMI<=29.9):\n",
    "        print(name +\", you are overweight!\")\n",
    "    elif(BMI>30):\n",
    "        print(name +\", you are obese!\")\n",
    "    else:\n",
    "        print(\"Enter valid input!\")\n"
   ]
  },
  {
   "cell_type": "code",
   "execution_count": 7,
   "id": "c3e37cbb",
   "metadata": {},
   "outputs": [],
   "source": [
    "#BMI = (weight in pounds x 703) / (height in inches x height in inches)"
   ]
  },
  {
   "cell_type": "code",
   "execution_count": null,
   "id": "8da24f74",
   "metadata": {},
   "outputs": [],
   "source": [
    "print(weight)"
   ]
  },
  {
   "cell_type": "code",
   "execution_count": null,
   "id": "6be9b17a",
   "metadata": {},
   "outputs": [],
   "source": [
    "BMI\tWeight Status\n",
    "Below 18.5\tUnderweight\n",
    "18.5—24.9\tHealthy Weight\n",
    "25.0—29.9\tOverweight\n",
    "30.0 and Above\tObesity"
   ]
  },
  {
   "cell_type": "code",
   "execution_count": 16,
   "id": "cdb5ac6c",
   "metadata": {},
   "outputs": [
    {
     "name": "stdout",
     "output_type": "stream",
     "text": [
      "Normal weight\n"
     ]
    }
   ],
   "source": [
    "if int(BMI) > 0:\n",
    "    if(BMI<18.5):\n",
    "        print(\"Underweight\")\n",
    "    elif(BMI<=24.9):\n",
    "        print(\"Normal weight\")\n",
    "    elif(BMI<=29.9):\n",
    "        print(\"Overweight\")\n",
    "    elif(BMI>30):\n",
    "        print(\"Obesity\")\n",
    "    else:\n",
    "        print(\"Enter valid input!\")"
   ]
  }
 ],
 "metadata": {
  "kernelspec": {
   "display_name": "Python 3 (ipykernel)",
   "language": "python",
   "name": "python3"
  },
  "language_info": {
   "codemirror_mode": {
    "name": "ipython",
    "version": 3
   },
   "file_extension": ".py",
   "mimetype": "text/x-python",
   "name": "python",
   "nbconvert_exporter": "python",
   "pygments_lexer": "ipython3",
   "version": "3.10.9"
  }
 },
 "nbformat": 4,
 "nbformat_minor": 5
}
